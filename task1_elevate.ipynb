{
  "nbformat": 4,
  "nbformat_minor": 0,
  "metadata": {
    "colab": {
      "provenance": []
    },
    "kernelspec": {
      "name": "python3",
      "display_name": "Python 3"
    },
    "language_info": {
      "name": "python"
    }
  },
  "cells": [
    {
      "cell_type": "code",
      "execution_count": 4,
      "metadata": {
        "id": "D8_T3Dklnaw4"
      },
      "outputs": [],
      "source": [
        "import pandas as pd\n",
        "import numpy as np"
      ]
    },
    {
      "cell_type": "code",
      "source": [
        "# Load the dataset\n",
        "df = pd.read_csv(\"marketing_campaign.csv\")"
      ],
      "metadata": {
        "id": "CGg-GNjW_rBL"
      },
      "execution_count": 5,
      "outputs": []
    },
    {
      "cell_type": "code",
      "source": [
        "print(\"Shape:\", df.shape)\n",
        "print(df.head())\n",
        "print(df.info())"
      ],
      "metadata": {
        "colab": {
          "base_uri": "https://localhost:8080/"
        },
        "id": "ZBt_MCHu_rNT",
        "outputId": "ae37077a-20bd-443e-f99d-528980dbd69d"
      },
      "execution_count": 6,
      "outputs": [
        {
          "output_type": "stream",
          "name": "stdout",
          "text": [
            "Shape: (2240, 1)\n",
            "  ID\\tYear_Birth\\tEducation\\tMarital_Status\\tIncome\\tKidhome\\tTeenhome\\tDt_Customer\\tRecency\\tMntWines\\tMntFruits\\tMntMeatProducts\\tMntFishProducts\\tMntSweetProducts\\tMntGoldProds\\tNumDealsPurchases\\tNumWebPurchases\\tNumCatalogPurchases\\tNumStorePurchases\\tNumWebVisitsMonth\\tAcceptedCmp3\\tAcceptedCmp4\\tAcceptedCmp5\\tAcceptedCmp1\\tAcceptedCmp2\\tComplain\\tZ_CostContact\\tZ_Revenue\\tResponse\n",
            "0  5524\\t1957\\tGraduation\\tSingle\\t58138\\t0\\t0\\t0...                                                                                                                                                                                                                                                                                                                                                  \n",
            "1  2174\\t1954\\tGraduation\\tSingle\\t46344\\t1\\t1\\t0...                                                                                                                                                                                                                                                                                                                                                  \n",
            "2  4141\\t1965\\tGraduation\\tTogether\\t71613\\t0\\t0\\...                                                                                                                                                                                                                                                                                                                                                  \n",
            "3  6182\\t1984\\tGraduation\\tTogether\\t26646\\t1\\t0\\...                                                                                                                                                                                                                                                                                                                                                  \n",
            "4  5324\\t1981\\tPhD\\tMarried\\t58293\\t1\\t0\\t19-01-2...                                                                                                                                                                                                                                                                                                                                                  \n",
            "<class 'pandas.core.frame.DataFrame'>\n",
            "RangeIndex: 2240 entries, 0 to 2239\n",
            "Data columns (total 1 columns):\n",
            " #   Column                                                                                                                                                                                                                                                                                                                                                                    Non-Null Count  Dtype \n",
            "---  ------                                                                                                                                                                                                                                                                                                                                                                    --------------  ----- \n",
            " 0   ID\tYear_Birth\tEducation\tMarital_Status\tIncome\tKidhome\tTeenhome\tDt_Customer\tRecency\tMntWines\tMntFruits\tMntMeatProducts\tMntFishProducts\tMntSweetProducts\tMntGoldProds\tNumDealsPurchases\tNumWebPurchases\tNumCatalogPurchases\tNumStorePurchases\tNumWebVisitsMonth\tAcceptedCmp3\tAcceptedCmp4\tAcceptedCmp5\tAcceptedCmp1\tAcceptedCmp2\tComplain\tZ_CostContact\tZ_Revenue\tResponse  2240 non-null   object\n",
            "dtypes: object(1)\n",
            "memory usage: 17.6+ KB\n",
            "None\n"
          ]
        }
      ]
    },
    {
      "cell_type": "code",
      "source": [
        "# Check missing values\n",
        "print(\"\\nMissing values per column:\")\n",
        "print(df.isnull().sum())\n"
      ],
      "metadata": {
        "colab": {
          "base_uri": "https://localhost:8080/"
        },
        "id": "1xz66y7x_rQR",
        "outputId": "e7b407fc-b831-4495-e5d0-ebf3706cb898"
      },
      "execution_count": 7,
      "outputs": [
        {
          "output_type": "stream",
          "name": "stdout",
          "text": [
            "\n",
            "Missing values per column:\n",
            "ID\\tYear_Birth\\tEducation\\tMarital_Status\\tIncome\\tKidhome\\tTeenhome\\tDt_Customer\\tRecency\\tMntWines\\tMntFruits\\tMntMeatProducts\\tMntFishProducts\\tMntSweetProducts\\tMntGoldProds\\tNumDealsPurchases\\tNumWebPurchases\\tNumCatalogPurchases\\tNumStorePurchases\\tNumWebVisitsMonth\\tAcceptedCmp3\\tAcceptedCmp4\\tAcceptedCmp5\\tAcceptedCmp1\\tAcceptedCmp2\\tComplain\\tZ_CostContact\\tZ_Revenue\\tResponse    0\n",
            "dtype: int64\n"
          ]
        }
      ]
    },
    {
      "cell_type": "code",
      "source": [
        "num_cols = df.select_dtypes(include=['int64', 'float64']).columns\n",
        "cat_cols = df.select_dtypes(include='object').columns\n",
        "\n",
        "for col in num_cols:\n",
        "    df[col].fillna(df[col].median(), inplace=True)\n",
        "\n",
        "for col in cat_cols:\n",
        "    df[col].fillna(df[col].mode()[0], inplace=True)"
      ],
      "metadata": {
        "colab": {
          "base_uri": "https://localhost:8080/"
        },
        "id": "HWsve6jU_rVd",
        "outputId": "c0bf1bd2-ca9c-48db-dc16-e8737f881680"
      },
      "execution_count": 8,
      "outputs": [
        {
          "output_type": "stream",
          "name": "stderr",
          "text": [
            "/tmp/ipython-input-3475971542.py:10: FutureWarning: A value is trying to be set on a copy of a DataFrame or Series through chained assignment using an inplace method.\n",
            "The behavior will change in pandas 3.0. This inplace method will never work because the intermediate object on which we are setting values always behaves as a copy.\n",
            "\n",
            "For example, when doing 'df[col].method(value, inplace=True)', try using 'df.method({col: value}, inplace=True)' or df[col] = df[col].method(value) instead, to perform the operation inplace on the original object.\n",
            "\n",
            "\n",
            "  df[col].fillna(df[col].mode()[0], inplace=True)\n"
          ]
        }
      ]
    },
    {
      "cell_type": "code",
      "source": [
        "print(\"\\nDuplicates before:\", df.duplicated().sum())\n",
        "df.drop_duplicates(inplace=True)\n",
        "print(\"Duplicates after:\", df.duplicated().sum())"
      ],
      "metadata": {
        "colab": {
          "base_uri": "https://localhost:8080/"
        },
        "id": "nndM7Yha_rjB",
        "outputId": "da46f37e-a6e7-41c4-d339-0cec26931a6b"
      },
      "execution_count": 9,
      "outputs": [
        {
          "output_type": "stream",
          "name": "stdout",
          "text": [
            "\n",
            "Duplicates before: 0\n",
            "Duplicates after: 0\n"
          ]
        }
      ]
    },
    {
      "cell_type": "code",
      "source": [
        "df.columns = (\n",
        "    df.columns\n",
        "      .str.strip()\n",
        "      .str.lower()\n",
        "      .str.replace(' ', '_')\n",
        "      .str.replace('[^0-9a-zA-Z_]', '', regex=True)\n",
        ")"
      ],
      "metadata": {
        "id": "6EjVYy4w_rrR"
      },
      "execution_count": 10,
      "outputs": []
    },
    {
      "cell_type": "code",
      "source": [
        "cat_cols = df.select_dtypes(include='object').columns\n",
        "\n",
        "for col in cat_cols:\n",
        "    df[col] = df[col].astype(str).str.strip().str.lower()"
      ],
      "metadata": {
        "id": "UsuHv7WP_8rc"
      },
      "execution_count": 12,
      "outputs": []
    },
    {
      "cell_type": "code",
      "source": [
        "if 'dt_customer' in df.columns:\n",
        "    df['dt_customer'] = pd.to_datetime(df['dt_customer'], errors='coerce')"
      ],
      "metadata": {
        "id": "GxPz869s_8vw"
      },
      "execution_count": 13,
      "outputs": []
    },
    {
      "cell_type": "code",
      "source": [
        "for col in num_cols:\n",
        "    Q1 = df[col].quantile(0.25)\n",
        "    Q3 = df[col].quantile(0.75)\n",
        "    IQR = Q3 - Q1\n",
        "    lower = Q1 - 1.5 * IQR\n",
        "    upper = Q3 + 1.5 * IQR\n",
        "    df[col] = df[col].clip(lower, upper)"
      ],
      "metadata": {
        "id": "JYHB-c9a_84x"
      },
      "execution_count": 14,
      "outputs": []
    },
    {
      "cell_type": "code",
      "source": [
        "print(\"\\nFinal shape:\", df.shape)\n",
        "print(\"Remaining missing values:\", df.isnull().sum().sum())\n",
        "\n",
        "# cleaned data\n",
        "df.to_csv(\"Cleaned_Customer_Personality.csv\", index=False)\n",
        "print(\"\\n✅ Cleaned dataset saved successfully!\")"
      ],
      "metadata": {
        "colab": {
          "base_uri": "https://localhost:8080/"
        },
        "id": "wv9cnyC9_8_q",
        "outputId": "5231044f-5f7a-43f7-9951-13733f398712"
      },
      "execution_count": 15,
      "outputs": [
        {
          "output_type": "stream",
          "name": "stdout",
          "text": [
            "\n",
            "Final shape: (2240, 1)\n",
            "Remaining missing values: 0\n",
            "\n",
            "✅ Cleaned dataset saved successfully!\n"
          ]
        }
      ]
    },
    {
      "cell_type": "code",
      "source": [],
      "metadata": {
        "id": "Krm3YJqPBLJG"
      },
      "execution_count": 15,
      "outputs": []
    }
  ]
}